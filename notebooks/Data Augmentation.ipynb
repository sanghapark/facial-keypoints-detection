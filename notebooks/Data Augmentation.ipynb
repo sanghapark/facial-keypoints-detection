{
 "cells": [
  {
   "cell_type": "markdown",
   "metadata": {},
   "source": [
    "https://github.com/gcoter/kaggle-facial-keypoints-detection/blob/master/scripts/convnet.py"
   ]
  },
  {
   "cell_type": "code",
   "execution_count": null,
   "metadata": {
    "collapsed": true
   },
   "outputs": [],
   "source": [
    "def flip(x,y,flip_indices):\n",
    "    # Flip half of the images in this batch at random:\n",
    "    bs = x.shape[0]\n",
    "    indices = np.random.choice(bs, bs // 2, replace=False)\n",
    "\n",
    "    x_copy = np.copy(x)\n",
    "    y_copy = np.copy(y)\n",
    "\n",
    "    # Horizontal flip of all x coordinates:\n",
    "    x_copy = x_copy.reshape((-1,image_size,image_size,1))\n",
    "    x_copy[indices] = x_copy[indices, :, ::-1, :]\n",
    "\n",
    "    # Horizontal flip of all x coordinates:\n",
    "    y_copy[indices, ::2] = y_copy[indices, ::2] * -1\n",
    "\n",
    "    # Swap places, e.g. left_eye_center_x -> right_eye_center_x\n",
    "    for a, b in flip_indices:\n",
    "        temp = np.copy(y_copy[indices, a])\n",
    "        y_copy[indices, a] = y_copy[indices, b]\n",
    "        y_copy[indices, b] = temp\n",
    "        \n",
    "    x_copy = x_copy.reshape((-1,image_size*image_size*1))\n",
    "    return x_copy,y_copy,indices"
   ]
  },
  {
   "cell_type": "markdown",
   "metadata": {},
   "source": [
    "https://github.com/moannuo/goodtoknow/tree/master/ML/Kaggle/KeypointsFacialKeras"
   ]
  },
  {
   "cell_type": "markdown",
   "metadata": {},
   "source": [
    "https://github.com/dai-dao/CV-Keras"
   ]
  },
  {
   "cell_type": "markdown",
   "metadata": {},
   "source": [
    "https://github.com/jrios6/AIND-CV-Facial-Keypoints"
   ]
  },
  {
   "cell_type": "markdown",
   "metadata": {},
   "source": [
    "https://github.com/jamesrequa/Facial-Keypoint-Detection"
   ]
  }
 ],
 "metadata": {
  "kernelspec": {
   "display_name": "Python 3",
   "language": "python",
   "name": "python3"
  },
  "language_info": {
   "codemirror_mode": {
    "name": "ipython",
    "version": 3
   },
   "file_extension": ".py",
   "mimetype": "text/x-python",
   "name": "python",
   "nbconvert_exporter": "python",
   "pygments_lexer": "ipython3",
   "version": "3.6.2"
  }
 },
 "nbformat": 4,
 "nbformat_minor": 2
}
