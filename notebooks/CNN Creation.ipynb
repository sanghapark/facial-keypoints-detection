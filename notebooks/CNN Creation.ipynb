{
 "cells": [
  {
   "cell_type": "code",
   "execution_count": 1,
   "metadata": {},
   "outputs": [
    {
     "name": "stderr",
     "output_type": "stream",
     "text": [
      "/Users/sanghapark/anaconda/lib/python3.6/importlib/_bootstrap.py:205: RuntimeWarning: compiletime version 3.5 of module 'tensorflow.python.framework.fast_tensor_util' does not match runtime version 3.6\n",
      "  return f(*args, **kwds)\n"
     ]
    }
   ],
   "source": [
    "import numpy as np\n",
    "import tensorflow as tf\n",
    "from utils.constants import *\n",
    "from utils.layer_factory import *\n",
    "from utils.cnnmodel_general import CnnModel"
   ]
  },
  {
   "cell_type": "code",
   "execution_count": 2,
   "metadata": {},
   "outputs": [
    {
     "name": "stdout",
     "output_type": "stream",
     "text": [
      "Conv2DLayer01\n",
      "Input:  (?, 96, 96, 1)\n",
      "After Conv2:  (?, 94, 94, 32)\n",
      "After Max Pooling:  (?, 67, 67, 32)\n",
      "==================================================\n",
      "Conv2DLayer02\n",
      "Input:  (?, 67, 67, 32)\n",
      "After Conv2:  (?, 65, 65, 68)\n",
      "After Max Pooling:  (?, 38, 38, 68)\n",
      "==================================================\n",
      "Conv2DLayer03\n",
      "Input:  (?, 38, 38, 68)\n",
      "After Conv2:  (?, 36, 36, 144)\n",
      "After Max Pooling:  (?, 9, 9, 144)\n",
      "==================================================\n",
      "DenseLayer04\n",
      "Input:  (?, 11664)\n",
      "L.shape:  (?, 11664)\n",
      "==================================================\n",
      "DenseLayer05\n",
      "Input:  (?, 11664)\n",
      "L.shape:  (?, 108)\n",
      "==================================================\n",
      "DenseLayer06\n",
      "Input:  (?, 108)\n",
      "hypothesis.shape:  (?, 30)\n",
      "==================================================\n"
     ]
    }
   ],
   "source": [
    "sess = tf.Session()\n",
    "cnnmodel01 = CnnModel(sess, 'CnnModel01')\n",
    "sess.close()"
   ]
  }
 ],
 "metadata": {
  "kernelspec": {
   "display_name": "Python 3",
   "language": "python",
   "name": "python3"
  },
  "language_info": {
   "codemirror_mode": {
    "name": "ipython",
    "version": 3
   },
   "file_extension": ".py",
   "mimetype": "text/x-python",
   "name": "python",
   "nbconvert_exporter": "python",
   "pygments_lexer": "ipython3",
   "version": "3.6.2"
  }
 },
 "nbformat": 4,
 "nbformat_minor": 2
}
